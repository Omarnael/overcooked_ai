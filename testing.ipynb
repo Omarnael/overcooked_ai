{
 "cells": [
  {
   "cell_type": "code",
   "execution_count": 3,
   "metadata": {},
   "outputs": [
    {
     "name": "stderr",
     "output_type": "stream",
     "text": [
      "\n"
     ]
    }
   ],
   "source": [
    "import numpy as np\n",
    "from overcooked_ai_py.mdp.actions import Action, Direction\n",
    "from overcooked_ai_py.agents.agent import Agent, AgentPair, StayAgent, GreedyHumanModel\n",
    "from overcooked_ai_py.agents.benchmarking import AgentEvaluator, LayoutGenerator\n",
    "from overcooked_ai_py.visualization.state_visualizer import StateVisualizer"
   ]
  },
  {
   "cell_type": "code",
   "execution_count": 4,
   "metadata": {},
   "outputs": [],
   "source": [
    "def pretty_grid(grid):\n",
    "    return \"\\n\".join(\"\".join(line) for line in grid)"
   ]
  },
  {
   "cell_type": "code",
   "execution_count": 8,
   "metadata": {},
   "outputs": [
    {
     "name": "stderr",
     "output_type": "stream",
     "text": [
      "Avg rew: 0.00 (std: 0.00, se: 0.00); avg len: 1400.00; : 100%|██████████| 1/1 [00:00<00:00,  1.27it/s]"
     ]
    },
    {
     "name": "stdout",
     "output_type": "stream",
     "text": [
      "Skipping trajectory consistency checking because MDP was recognized as variable. Trajectory consistency checking is not yet supported for variable MDPs.\n"
     ]
    },
    {
     "name": "stderr",
     "output_type": "stream",
     "text": [
      "\n"
     ]
    }
   ],
   "source": [
    "params = {\"inner_shape\": (7,7),\n",
    "                \"prop_empty\":0.8, # proportion of empty space in generated layout\n",
    "                \"prop_feats\":0.30, # proportion of counters with features on them\n",
    "                \"display\": False,\n",
    "                \"start_all_orders\": # list of recipes that can be delivered\n",
    "                   [{ \"ingredients\" : [\"laptop\", \"laptop\", \"laptop\"]}],\n",
    "                    #{ \"ingredients\" : [\"solar_cell\"]},\n",
    "                    #{ \"ingredients\" : [\"projector\"]}],\n",
    "                # (optional param) reward for delivering recipes (for every recipe in start_all_orders)\n",
    "                # \"recipe_values\" : [20], \n",
    "                # # (optional param) cooking time of recipes (for every recipe in start_all_orders)\n",
    "                # \"recipe_times\" : [50]\n",
    "                 }\n",
    "\n",
    "\n",
    "env_params = {\"horizon\": 1400}\n",
    "mdp_gen_params = {\"layout_name\": 'leaderboard_collaborative'}\n",
    "#mdp_fn = LayoutGenerator.mdp_gen_fn_from_dict(params, outer_shape=(7, 7))\n",
    "mdp_fn = LayoutGenerator.mdp_gen_fn_from_dict(mdp_gen_params)\n",
    "agent_eval = AgentEvaluator(env_params=env_params, mdp_fn=mdp_fn)\n",
    "a0 = GreedyHumanModel(agent_eval.env.mlam)\n",
    "a1 = StayAgent(agent_eval.env.mlam)\n",
    "agent_pair = AgentPair(a0, a1)\n",
    "trajectories_random_pair = agent_eval.evaluate_agent_pair(agent_pair, 1)\n",
    "# trajectories_random_pair = agent_eval.evaluate_random_pair(num_games=1)\n",
    "grid = agent_eval.env.mdp.terrain_mtx\n",
    "#print(trajectories_random_pair[\"mdp_params\"][0][\"terrain\"])\n",
    "#print(trajectories_random_pair['ep_states'][0][27])\n",
    "#print(\"\\nGenerated grid:\\n\" + pretty_grid(trajectories_random_pair[\"mdp_params\"][0][\"terrain\"]))\n",
    "#img_dir_path = StateVisualizer().display_rendered_trajectory(trajectories_random_pair,\n",
    "#                                                             trajectory_idx=0, ipython_display=True)"
   ]
  },
  {
   "cell_type": "code",
   "execution_count": 9,
   "metadata": {},
   "outputs": [
    {
     "data": {
      "application/vnd.jupyter.widget-view+json": {
       "model_id": "4d94c7b462fe4cc8b398c7f7126869a6",
       "version_major": 2,
       "version_minor": 0
      },
      "text/plain": [
       "interactive(children=(IntSlider(value=0, description='timestep', max=1399), Output()), _dom_classes=('widget-i…"
      ]
     },
     "metadata": {},
     "output_type": "display_data"
    }
   ],
   "source": [
    "img_dir_path = StateVisualizer().display_rendered_trajectory(trajectories_random_pair,\n",
    "                                                             trajectory_idx=0, ipython_display=True, single=False)"
   ]
  },
  {
   "cell_type": "code",
   "execution_count": 12,
   "metadata": {},
   "outputs": [
    {
     "name": "stdout",
     "output_type": "stream",
     "text": [
      "Computing MotionPlanner to be saved in /home/private/dell/hackit/overcooked_ai/src/overcooked_ai_py/data/planners/semi_final_single_mp.pkl\n",
      "It took 0.21952271461486816 seconds to create mp\n"
     ]
    },
    {
     "name": "stderr",
     "output_type": "stream",
     "text": [
      "Avg rew: 360.00 (std: 0.00, se: 0.00); avg len: 5000.00; : 100%|██████████| 1/1 [00:00<00:00,  1.05it/s]"
     ]
    },
    {
     "name": "stdout",
     "output_type": "stream",
     "text": [
      "Skipping trajectory consistency checking because MDP was recognized as variable. Trajectory consistency checking is not yet supported for variable MDPs.\n"
     ]
    },
    {
     "name": "stderr",
     "output_type": "stream",
     "text": [
      "\n"
     ]
    }
   ],
   "source": [
    "params = {\"inner_shape\": (7,7),\n",
    "                \"prop_empty\":0.8, # proportion of empty space in generated layout\n",
    "                \"prop_feats\":0.30, # proportion of counters with features on them\n",
    "                \"display\": False,\n",
    "                \"start_all_orders\": # list of recipes that can be delivered\n",
    "                   [{ \"ingredients\" : [\"laptop\", \"laptop\", \"laptop\"]}],\n",
    "                    #{ \"ingredients\" : [\"solar_cell\"]},\n",
    "                    #{ \"ingredients\" : [\"projector\"]}],\n",
    "                # (optional param) reward for delivering recipes (for every recipe in start_all_orders)\n",
    "                \"recipe_values\" : [20], \n",
    "                # (optional param) cooking time of recipes (for every recipe in start_all_orders)\n",
    "                \"recipe_times\" : [20]\n",
    "                 }\n",
    "\n",
    "\n",
    "env_params = {\"horizon\": 5000}\n",
    "mdp_gen_params = {\"layout_name\": 'semi_final_single'}\n",
    "#mdp_fn = LayoutGenerator.mdp_gen_fn_from_dict(params, outer_shape=(7, 7))\n",
    "mdp_fn = LayoutGenerator.mdp_gen_fn_from_dict(mdp_gen_params)\n",
    "agent_eval = AgentEvaluator(env_params=env_params, mdp_fn=mdp_fn)\n",
    "a0 = GreedyHumanModel(agent_eval.env.mlam)\n",
    "a1 = StayAgent(agent_eval.env.mlam)\n",
    "agent_pair = AgentPair(a0, a1)\n",
    "trajectories_random_pair = agent_eval.evaluate_agent_pair(agent_pair, 1)\n",
    "# trajectories_random_pair = agent_eval.evaluate_random_pair(num_games=1)\n",
    "grid = agent_eval.env.mdp.terrain_mtx\n",
    "#print(trajectories_random_pair[\"mdp_params\"][0][\"terrain\"])\n",
    "#print(trajectories_random_pair['ep_states'][0][27])\n",
    "#print(\"\\nGenerated grid:\\n\" + pretty_grid(trajectories_random_pair[\"mdp_params\"][0][\"terrain\"]))\n",
    "#img_dir_path = StateVisualizer().display_rendered_trajectory(trajectories_random_pair,\n",
    "#                                                             trajectory_idx=0, ipython_display=True)"
   ]
  },
  {
   "cell_type": "code",
   "execution_count": 13,
   "metadata": {},
   "outputs": [
    {
     "data": {
      "application/vnd.jupyter.widget-view+json": {
       "model_id": "0ad79d227e2e4f74b536578272f4e6f6",
       "version_major": 2,
       "version_minor": 0
      },
      "text/plain": [
       "interactive(children=(IntSlider(value=0, description='timestep', max=4999), Output()), _dom_classes=('widget-i…"
      ]
     },
     "metadata": {},
     "output_type": "display_data"
    }
   ],
   "source": [
    "img_dir_path = StateVisualizer().display_rendered_trajectory(trajectories_random_pair,\n",
    "                                                             trajectory_idx=0, ipython_display=True)"
   ]
  },
  {
   "cell_type": "code",
   "execution_count": null,
   "metadata": {},
   "outputs": [],
   "source": []
  }
 ],
 "metadata": {
  "interpreter": {
   "hash": "3737b51f9fd4166a98b32718802890d61d8d2377e16aa17967126da76b2248d4"
  },
  "kernelspec": {
   "display_name": "Python 3.8.10 ('overcooked': venv)",
   "language": "python",
   "name": "python3"
  },
  "language_info": {
   "codemirror_mode": {
    "name": "ipython",
    "version": 3
   },
   "file_extension": ".py",
   "mimetype": "text/x-python",
   "name": "python",
   "nbconvert_exporter": "python",
   "pygments_lexer": "ipython3",
   "version": "3.8.10"
  },
  "orig_nbformat": 4
 },
 "nbformat": 4,
 "nbformat_minor": 2
}
